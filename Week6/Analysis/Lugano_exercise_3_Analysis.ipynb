{
 "cells": [
  {
   "cell_type": "markdown",
   "metadata": {},
   "source": [
    "this notebook is for Week6-Assignment\n",
    "author: Rui Zeng, N15471955, rz2522@nyu.edu\n",
    "assignment:\n",
    "[*optional Do Lugano exercise 3 - try at least 3 different bias factors to see how this affects your results.\n",
    "\t- Show the exploration of phi for these different bias factors, what do you notice?\n",
    "\t- What is the smallest you can pick where the barriers are not surmounted?\n",
    "\t- Plot the final Free Energy for each one, does it look the same?*]"
   ]
  },
  {
   "cell_type": "code",
   "execution_count": null,
   "metadata": {},
   "outputs": [],
   "source": []
  }
 ],
 "metadata": {
  "kernelspec": {
   "display_name": "Python 3.7.1 ('base')",
   "language": "python",
   "name": "python3"
  },
  "language_info": {
   "name": "python",
   "version": "3.7.1"
  },
  "orig_nbformat": 4,
  "vscode": {
   "interpreter": {
    "hash": "19d1d53a962d236aa061289c2ac16dc8e6d9648c89fe79f459ae9a3493bc67b4"
   }
  }
 },
 "nbformat": 4,
 "nbformat_minor": 2
}
