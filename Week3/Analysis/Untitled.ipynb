{
 "cells": [
  {
   "cell_type": "code",
   "execution_count": 2,
   "metadata": {},
   "outputs": [],
   "source": [
    "# this is for homework Week 4-50 ns MD simulation, remove water\n",
    "# Author: Rui Zeng, N15471955, rz2522@nyu.edu\n",
    "# import libraries\n",
    "import mdtraj as md"
   ]
  },
  {
   "cell_type": "code",
   "execution_count": null,
   "metadata": {},
   "outputs": [],
   "source": [
    "# define file names\n",
    "gro_file = '../Rawdata_from_job_sbatch/md_0_50_48tasks.gro'\n",
    "xtc_file = '../Rawdata_from_job_sbatch/md_0_50_48tasks.xtc'# this large file would not be uploaded to git\n",
    "# load the trajectory\n",
    "traj = md.load(xtc_file, top=gro_file)\n",
    "# remove water\n",
    "traj = traj.remove_solvent()\n",
    "# make a trajectory file without water\n",
    "traj.save('../Data/50_ns_MD_no_water.xtc')\n",
    "# make a gro file without water\n",
    "traj.save('../Data/50_ns_MD_no_water.gro')\n",
    "# make a pdb file without water\n",
    "traj.save('../Data/50_ns_MD_no_water.pdb')"
   ]
  },
  {
   "cell_type": "code",
   "execution_count": null,
   "metadata": {},
   "outputs": [],
   "source": []
  }
 ],
 "metadata": {
  "kernelspec": {
   "display_name": "lab_env",
   "language": "python",
   "name": "lab_env"
  },
  "language_info": {
   "codemirror_mode": {
    "name": "ipython",
    "version": 3
   },
   "file_extension": ".py",
   "mimetype": "text/x-python",
   "name": "python",
   "nbconvert_exporter": "python",
   "pygments_lexer": "ipython3",
   "version": "3.9.12"
  }
 },
 "nbformat": 4,
 "nbformat_minor": 4
}
