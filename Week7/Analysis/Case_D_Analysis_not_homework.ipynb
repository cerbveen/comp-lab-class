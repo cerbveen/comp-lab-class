{
 "cells": [
  {
   "cell_type": "markdown",
   "metadata": {},
   "source": [
    "this notebook is for Week7-Assignment\n",
    "author: Rui Zeng, N15471955, rz2522@nyu.edu\n",
    "assignment:\n",
    "Using mdtraj, in a jupyter notebook, align your alphafold predictions to the crystal structure and make a bar plot showing the RMSD of each predicted structure to the crystal structure based on alpha-carbons and based on the full backbone and side-chains. Does alphafold get everything right or just the backbone structure? \n",
    "(Bonus) In your jupyter notebook, load the pkl files and get the average PLDDT score for each predicted structure. Make a scatter plot of PLDDT vs RMSD of prediction. Are they correlated in your case?"
   ]
  },
  {
   "cell_type": "markdown",
   "metadata": {},
   "source": [
    "This is not for homework\n",
    "In the pdb file from https://www.rcsb.org/structure/6D1R, only 109 resiudes are modeled. However, there are 119 residues in .fasta and so in Alphafold2 configs, thereby causing a mismatch when computing RMSD."
   ]
  },
  {
   "cell_type": "code",
   "execution_count": 14,
   "metadata": {},
   "outputs": [],
   "source": [
    "# load libraries\n",
    "import mdtraj as md\n",
    "import numpy as np\n",
    "import matplotlib.pyplot as plt"
   ]
  },
  {
   "cell_type": "code",
   "execution_count": 15,
   "metadata": {},
   "outputs": [],
   "source": [
    "# pdb path\n",
    "pdb_path_crystal = '../Data/D_RNaseP/6d1r.pdb'\n",
    "pdb_path_Greene_0 = '../Data/D_RNaseP/RNaseP_Greene/ranked_0.pdb'\n",
    "pdb_path_Greene_1 = '../Data/D_RNaseP/RNaseP_Greene/ranked_1.pdb'\n",
    "pdb_path_Greene_2 = '../Data/D_RNaseP/RNaseP_Greene/ranked_2.pdb'\n",
    "pdb_path_Greene_3 = '../Data/D_RNaseP/RNaseP_Greene/ranked_3.pdb'\n",
    "pdb_path_Greene_4 = '../Data/D_RNaseP/RNaseP_Greene/ranked_4.pdb'\n",
    "pdb_path_Colab_1 = '../Data/D_RNaseP/RNaseP_relaxed_Alphafold2/RNaseP_relaxed_0e9b1_relaxed_rank_1_model_2.pdb'\n",
    "pdb_path_Colab_2 = '../Data/D_RNaseP/RNaseP_relaxed_Alphafold2/RNaseP_relaxed_0e9b1_relaxed_rank_2_model_3.pdb'\n",
    "pdb_path_Colab_3 = '../Data/D_RNaseP/RNaseP_relaxed_Alphafold2/RNaseP_relaxed_0e9b1_relaxed_rank_3_model_1.pdb'\n",
    "pdb_path_Colab_4 = '../Data/D_RNaseP/RNaseP_relaxed_Alphafold2/RNaseP_relaxed_0e9b1_relaxed_rank_4_model_5.pdb'\n",
    "pdb_path_Colab_5 = '../Data/D_RNaseP/RNaseP_relaxed_Alphafold2/RNaseP_relaxed_0e9b1_relaxed_rank_5_model_4.pdb'\n",
    "pdb_path_Rose = '../Data/D_RNaseP/RNaseP_RoseTTAfold/pred.scwrl.pdb'\n",
    "# pkl path\n",
    "pkl_path_Greene_0 = '../Data/D_RNaseP/RNaseP_Greene/result_model_1_pred_0.pkl'\n",
    "pkl_path_Greene_1 = '../Data/D_RNaseP/RNaseP_Greene/result_model_2_pred_0.pkl'\n",
    "pkl_path_Greene_2 = '../Data/D_RNaseP/RNaseP_Greene/result_model_3_pred_0.pkl'\n",
    "pkl_path_Greene_3 = '../Data/D_RNaseP/RNaseP_Greene/result_model_4_pred_0.pkl'\n",
    "pkl_path_Greene_4 = '../Data/D_RNaseP/RNaseP_Greene/result_model_5_pred_0.pkl'"
   ]
  },
  {
   "cell_type": "code",
   "execution_count": 16,
   "metadata": {},
   "outputs": [],
   "source": [
    "# load pdb\n",
    "pdb_crystal = md.load_pdb(pdb_path_crystal)\n",
    "pdb_Greene_0 = md.load_pdb(pdb_path_Greene_0)\n",
    "pdb_Greene_1 = md.load_pdb(pdb_path_Greene_1)\n",
    "pdb_Greene_2 = md.load_pdb(pdb_path_Greene_2)\n",
    "pdb_Greene_3 = md.load_pdb(pdb_path_Greene_3)\n",
    "pdb_Greene_4 = md.load_pdb(pdb_path_Greene_4)\n",
    "pdb_Colab_1 = md.load_pdb(pdb_path_Colab_1)\n",
    "pdb_Colab_2 = md.load_pdb(pdb_path_Colab_2)\n",
    "pdb_Colab_3 = md.load_pdb(pdb_path_Colab_3)\n",
    "pdb_Colab_4 = md.load_pdb(pdb_path_Colab_4)\n",
    "pdb_Colab_5 = md.load_pdb(pdb_path_Colab_5)\n",
    "pdb_Rose = md.load_pdb(pdb_path_Rose)\n",
    "# load pkl file with numpy\n",
    "pkl_Greene_0 = np.load(pkl_path_Greene_0, allow_pickle=True)\n",
    "pkl_Greene_1 = np.load(pkl_path_Greene_1, allow_pickle=True)\n",
    "pkl_Greene_2 = np.load(pkl_path_Greene_2, allow_pickle=True)\n",
    "pkl_Greene_3 = np.load(pkl_path_Greene_3, allow_pickle=True)\n",
    "pkl_Greene_4 = np.load(pkl_path_Greene_4, allow_pickle=True)"
   ]
  },
  {
   "cell_type": "code",
   "execution_count": 27,
   "metadata": {},
   "outputs": [
    {
     "name": "stdout",
     "output_type": "stream",
     "text": [
      "Number of atoms in crystal structure:  1804\n",
      "Number of atoms in Greene_0:  2019\n",
      "Number of atoms in Colab_1:  2019\n",
      "Number of atoms in Rose:  972\n",
      "Selection = alpha carbon\n",
      "Crystal Structure:  109\n",
      "Greene:  119\n",
      "Colab:  119\n",
      "Rose:  119\n",
      "Selection = backbone\n",
      "Crystal Structure:  436\n",
      "Greene:  476\n",
      "Colab:  476\n",
      "Rose:  476\n",
      "Selection = side chain\n",
      "Crystal Structure:  1118\n",
      "Greene:  1311\n",
      "Colab:  1311\n",
      "Rose:  496\n"
     ]
    }
   ],
   "source": [
    "# check number of atoms\n",
    "print('Number of atoms in crystal structure: ', pdb_crystal.n_atoms)\n",
    "print('Number of atoms in Greene_0: ', pdb_Greene_0.n_atoms)\n",
    "print('Number of atoms in Colab_1: ', pdb_Colab_1.n_atoms)\n",
    "print('Number of atoms in Rose: ', pdb_Rose.n_atoms)\n",
    "\n",
    "\n",
    "# selection - alpha carbon & C\n",
    "selection_1 = 'name CA'\n",
    "\n",
    "# check the number of selected atoms\n",
    "print('Selection = alpha carbon')\n",
    "print('Crystal Structure: ', pdb_crystal.top.select(selection_1).shape[0])\n",
    "print('Greene: ', pdb_Greene_0.top.select(selection_1).shape[0])\n",
    "print('Colab: ', pdb_Colab_1.top.select(selection_1).shape[0])\n",
    "print('Rose: ', pdb_Rose.top.select(selection_1).shape[0])\n",
    "# selection - backbone\n",
    "selection_2 = 'backbone'\n",
    "# check the number of selected atoms\n",
    "print('Selection = backbone')\n",
    "print('Crystal Structure: ', pdb_crystal.top.select(selection_2).shape[0])\n",
    "print('Greene: ', pdb_Greene_0.top.select(selection_2).shape[0])\n",
    "print('Colab: ', pdb_Colab_1.top.select(selection_2).shape[0])\n",
    "print('Rose: ', pdb_Rose.top.select(selection_2).shape[0])\n",
    "# selection - side chains\n",
    "selection_3 = 'sidechain'\n",
    "# check the number of selected atoms\n",
    "print('Selection = side chain')\n",
    "print('Crystal Structure: ', pdb_crystal.top.select(selection_3).shape[0])\n",
    "print('Greene: ', pdb_Greene_0.top.select(selection_3).shape[0])\n",
    "print('Colab: ', pdb_Colab_1.top.select(selection_3).shape[0])\n",
    "print('Rose: ', pdb_Rose.top.select(selection_3).shape[0])"
   ]
  },
  {
   "cell_type": "code",
   "execution_count": 24,
   "metadata": {},
   "outputs": [
    {
     "name": "stdout",
     "output_type": "stream",
     "text": [
      "Selection = alpha carbon\n",
      "Crystal Structure:  109\n",
      "test:  119\n"
     ]
    }
   ],
   "source": [
    "path_test= '../Inputs/D_RNaseP/RNaseP_Greene/rcsb_pdb_6D1R/unrelaxed_model_1_pred_0.pdb'\n",
    "#path_test= '../Inputs/D_RNaseP/Lysozyme_relaxed_Alphafold2/Lysozyme_relaxed_ce6c6_unrelaxed_rank_1_model_5.pdb'\n",
    "#path_test= '../Inputs/C_Lysozyme/Lysozyme_Greene/rcsb_pdb_1LYS/ranked_0.pdb'\n",
    "# load other pdb\n",
    "pdb_test = md.load_pdb(path_test)\n",
    "# check the number of selected atoms\n",
    "print('Selection = alpha carbon')\n",
    "print('Crystal Structure: ', pdb_crystal.top.select(selection_1).shape[0])\n",
    "print('test: ', pdb_test.top.select(selection_1).shape[0])\n",
    "#Week7\\Inputs\\D_RNaseP\\RNaseP_Greene\\rcsb_pdb_6D1R\\relaxed_model_1_pred_0.pdb\n",
    "\n"
   ]
  },
  {
   "cell_type": "code",
   "execution_count": null,
   "metadata": {},
   "outputs": [],
   "source": []
  }
 ],
 "metadata": {
  "kernelspec": {
   "display_name": "Python 3.7.1 ('base')",
   "language": "python",
   "name": "python3"
  },
  "language_info": {
   "codemirror_mode": {
    "name": "ipython",
    "version": 3
   },
   "file_extension": ".py",
   "mimetype": "text/x-python",
   "name": "python",
   "nbconvert_exporter": "python",
   "pygments_lexer": "ipython3",
   "version": "3.7.1"
  },
  "orig_nbformat": 4,
  "vscode": {
   "interpreter": {
    "hash": "19d1d53a962d236aa061289c2ac16dc8e6d9648c89fe79f459ae9a3493bc67b4"
   }
  }
 },
 "nbformat": 4,
 "nbformat_minor": 2
}
