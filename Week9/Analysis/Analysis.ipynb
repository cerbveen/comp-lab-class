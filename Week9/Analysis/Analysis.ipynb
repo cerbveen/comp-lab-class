{
 "cells": [
  {
   "cell_type": "markdown",
   "metadata": {},
   "source": [
    "this notebook is for Week9-Assignment\n",
    "author: Rui Zeng, N15471955, rz2522@nyu.edu\n",
    "assignment:\n",
    "1. Using the production data, compute the radial distribution function between type 1 and type 1 particles, type 2 and type 2, and type 1 and type 2. \n",
    "Make 3 separate figures showing g_11(r), g_22(r), g_12(r) - each one at all the temperatures. \n",
    "\n",
    "2. Using the production data, compute the mean-squared displacement for type 1 particles at each tempearture. Make a figure showing the MSD at each temperature. This figure should be on a log-log scale. If you do this, you will see there is a small plateau and then diffusive behavior at longer time (linear slope).\n",
    "\n",
    "3. Find the time where MSD = 1 at each temperature. This is the time where the particle would diffuse 1 diameter on average. Make a plot of this time vs $1/T$. This should also be a log-log plot."
   ]
  },
  {
   "cell_type": "code",
   "execution_count": null,
   "metadata": {},
   "outputs": [],
   "source": []
  }
 ],
 "metadata": {
  "kernelspec": {
   "display_name": "Python 3.7.1 ('base')",
   "language": "python",
   "name": "python3"
  },
  "language_info": {
   "name": "python",
   "version": "3.7.1"
  },
  "orig_nbformat": 4,
  "vscode": {
   "interpreter": {
    "hash": "19d1d53a962d236aa061289c2ac16dc8e6d9648c89fe79f459ae9a3493bc67b4"
   }
  }
 },
 "nbformat": 4,
 "nbformat_minor": 2
}
