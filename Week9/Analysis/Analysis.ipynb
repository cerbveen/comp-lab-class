{
 "cells": [
  {
   "cell_type": "markdown",
   "metadata": {},
   "source": [
    "this notebook is for Week9-Assignment\n",
    "author: Rui Zeng, N15471955, rz2522@nyu.edu\n",
    "assignment:\n",
    "1. Using the production data, compute the radial distribution function between type 1 and type 1 particles, type 2 and type 2, and type 1 and type 2. \n",
    "Make 3 separate figures showing g_11(r), g_22(r), g_12(r) - each one at all the temperatures. \n",
    "\n",
    "2. Using the production data, compute the mean-squared displacement for type 1 particles at each tempearture. Make a figure showing the MSD at each temperature. This figure should be on a log-log scale. If you do this, you will see there is a small plateau and then diffusive behavior at longer time (linear slope).\n",
    "\n",
    "3. Find the time where MSD = 1 at each temperature. This is the time where the particle would diffuse 1 diameter on average. Make a plot of this time vs $1/T$. This should also be a log-log plot."
   ]
  },
  {
   "cell_type": "code",
   "execution_count": 42,
   "metadata": {},
   "outputs": [],
   "source": [
    "# import libraries\n",
    "import MDAnalysis as mda\n",
    "import MDAnalysis.analysis.rdf as rdf\n",
    "import matplotlib.pyplot as plt\n",
    "import numpy as np\n"
   ]
  },
  {
   "cell_type": "code",
   "execution_count": 30,
   "metadata": {},
   "outputs": [],
   "source": [
    "# file paths\n",
    "topology = \"../Data/equil/kalj_T2_n360_v300_10000_1.lammpstrj\"\n",
    "# temeperature is 1.5, 1, 0.9, 0.8, 0.7, 0.65, 0.6, 0.55, 0.5, 0.475, 0.45\n",
    "trajectory_prod_T1p5 = \"../Data/prod/kalj_T1.5_n360_v300_prod_10000_1.unwrap.dcd\"\n",
    "trajectory_prod_T1 = \"../Data/prod/kalj_T1_n360_v300_prod_50000_1.unwrap.dcd\"\n",
    "trajectory_prod_T0p9 = \"../Data/prod/kalj_T0.9_n360_v300_prod_150000_1.unwrap.dcd\"\n",
    "trajectory_prod_T0p8 = \"../Data/prod/kalj_T0.8_n360_v300_prod_150000_1.unwrap.dcd\"\n",
    "trajectory_prod_T0p7 = \"../Data/prod/kalj_T0.7_n360_v300_prod_180000_1.unwrap.dcd\"\n",
    "trajectory_prod_T0p65 = \"../Data/prod/kalj_T0.65_n360_v300_prod_350000_1.unwrap.dcd\"\n",
    "trajectory_prod_T0p6 = \"../Data/prod/kalj_T0.6_n360_v300_prod_1000000_1.unwrap.dcd\"\n",
    "trajectory_prod_T0p55 = \"../Data/prod/kalj_T0.55_n360_v300_prod_3000000_1.unwrap.dcd\"\n",
    "trajectory_prod_T0p5 = \"../Data/prod/kalj_T0.5_n360_v300_prod_10000000_1.unwrap.dcd\"\n",
    "trajectory_prod_T0p475 = \"../Data/prod/kalj_T0.475_n360_v300_prod_30000000_1.unwrap.dcd\"\n",
    "trajectory_prod_T0p45 = \"../Data/prod/kalj_T0.45_n360_v300_prod_100000000_1.unwrap.dcd\""
   ]
  },
  {
   "cell_type": "code",
   "execution_count": 31,
   "metadata": {},
   "outputs": [],
   "source": [
    "# load traj with mdanalysis universe\n",
    "traj_T1p5 = mda.Universe(topology, trajectory_prod_T1p5, topology_format=\"LAMMPSDUMP\")\n",
    "traj_T1 = mda.Universe(topology, trajectory_prod_T1, topology_format='LAMMPSDUMP')\n",
    "traj_T0p9 = mda.Universe(topology, trajectory_prod_T0p9, topology_format='LAMMPSDUMP')\n",
    "traj_T0p8 = mda.Universe(topology, trajectory_prod_T0p8, topology_format='LAMMPSDUMP')\n",
    "traj_T0p7 = mda.Universe(topology, trajectory_prod_T0p7, topology_format='LAMMPSDUMP')\n",
    "traj_T0p65 = mda.Universe(topology, trajectory_prod_T0p65, topology_format='LAMMPSDUMP')\n",
    "traj_T0p6 = mda.Universe(topology, trajectory_prod_T0p6, topology_format='LAMMPSDUMP')\n",
    "traj_T0p55 = mda.Universe(topology, trajectory_prod_T0p55, topology_format='LAMMPSDUMP')\n",
    "traj_T0p5 = mda.Universe(topology, trajectory_prod_T0p5, topology_format='LAMMPSDUMP')\n",
    "traj_T0p475 = mda.Universe(topology, trajectory_prod_T0p475, topology_format='LAMMPSDUMP')\n",
    "traj_T0p45 = mda.Universe(topology, trajectory_prod_T0p45, topology_format='LAMMPSDUMP')\n"
   ]
  },
  {
   "cell_type": "code",
   "execution_count": 47,
   "metadata": {},
   "outputs": [
    {
     "ename": "TypeError",
     "evalue": "cannot unpack non-iterable InterRDF object",
     "output_type": "error",
     "traceback": [
      "\u001b[1;31m---------------------------------------------------------------------------\u001b[0m",
      "\u001b[1;31mTypeError\u001b[0m                                 Traceback (most recent call last)",
      "\u001b[1;32m~\\AppData\\Local\\Temp\\ipykernel_33804\\2542944806.py\u001b[0m in \u001b[0;36m<module>\u001b[1;34m\u001b[0m\n\u001b[0;32m     11\u001b[0m     \u001b[0msel2\u001b[0m \u001b[1;33m=\u001b[0m \u001b[0mtraj\u001b[0m\u001b[1;33m.\u001b[0m\u001b[0mselect_atoms\u001b[0m\u001b[1;33m(\u001b[0m\u001b[1;34m\"type 2\"\u001b[0m\u001b[1;33m)\u001b[0m\u001b[1;33m\u001b[0m\u001b[1;33m\u001b[0m\u001b[0m\n\u001b[0;32m     12\u001b[0m     \u001b[1;31m# compute rdf\u001b[0m\u001b[1;33m\u001b[0m\u001b[1;33m\u001b[0m\u001b[1;33m\u001b[0m\u001b[0m\n\u001b[1;32m---> 13\u001b[1;33m     \u001b[0mr1\u001b[0m\u001b[1;33m,\u001b[0m \u001b[0mg1\u001b[0m \u001b[1;33m=\u001b[0m \u001b[0mrdf\u001b[0m\u001b[1;33m.\u001b[0m\u001b[0mInterRDF\u001b[0m\u001b[1;33m(\u001b[0m\u001b[0msel1\u001b[0m\u001b[1;33m,\u001b[0m \u001b[0msel1\u001b[0m\u001b[1;33m)\u001b[0m\u001b[1;33m.\u001b[0m\u001b[0mrun\u001b[0m\u001b[1;33m(\u001b[0m\u001b[1;33m)\u001b[0m\u001b[1;33m\u001b[0m\u001b[1;33m\u001b[0m\u001b[0m\n\u001b[0m\u001b[0;32m     14\u001b[0m     \u001b[0mr2\u001b[0m\u001b[1;33m,\u001b[0m \u001b[0mg2\u001b[0m \u001b[1;33m=\u001b[0m \u001b[0mrdf\u001b[0m\u001b[1;33m.\u001b[0m\u001b[0mInterRDF\u001b[0m\u001b[1;33m(\u001b[0m\u001b[0msel2\u001b[0m\u001b[1;33m,\u001b[0m \u001b[0msel2\u001b[0m\u001b[1;33m)\u001b[0m\u001b[1;33m.\u001b[0m\u001b[0mrun\u001b[0m\u001b[1;33m(\u001b[0m\u001b[1;33m)\u001b[0m\u001b[1;33m\u001b[0m\u001b[1;33m\u001b[0m\u001b[0m\n\u001b[0;32m     15\u001b[0m     \u001b[0mr12\u001b[0m\u001b[1;33m,\u001b[0m \u001b[0mg12\u001b[0m \u001b[1;33m=\u001b[0m \u001b[0mrdf\u001b[0m\u001b[1;33m.\u001b[0m\u001b[0mInterRDF\u001b[0m\u001b[1;33m(\u001b[0m\u001b[0msel1\u001b[0m\u001b[1;33m,\u001b[0m \u001b[0msel2\u001b[0m\u001b[1;33m)\u001b[0m\u001b[1;33m.\u001b[0m\u001b[0mrun\u001b[0m\u001b[1;33m(\u001b[0m\u001b[1;33m)\u001b[0m\u001b[1;33m\u001b[0m\u001b[1;33m\u001b[0m\u001b[0m\n",
      "\u001b[1;31mTypeError\u001b[0m: cannot unpack non-iterable InterRDF object"
     ]
    }
   ],
   "source": [
    "#Using the production data, compute the radial distribution function between type 1 and type 1 particles, type 2 and type 2, and type 1 and type 2. \n",
    "#Make 3 separate figures showing g_11(r), g_22(r), g_12(r) - each one at all the temperatures.\n",
    "\n",
    "# define temperature list\n",
    "temperatures = [1.5, 1, 0.9, 0.8, 0.7, 0.65, 0.6, 0.55, 0.5, 0.475, 0.45]\n",
    "# define trajectory list\n",
    "traj_list = [traj_T1p5, traj_T1, traj_T0p9, traj_T0p8, traj_T0p7, traj_T0p65, traj_T0p6, traj_T0p55, traj_T0p5, traj_T0p475, traj_T0p45]\n",
    "# create empty list to store rdf values\n",
    "rdfs = np.empty(len(traj_list), dtype=object)\n",
    "\n",
    "\n",
    "#  compute rdf for each trajectory, type 1 and type 1 particles, type 2 and type 2, and type 1 and type 2\n",
    "for traj in traj_list:\n",
    "    # define selection\n",
    "    sel1 = traj.select_atoms(\"type 1\")\n",
    "    sel2 = traj.select_atoms(\"type 2\")\n",
    "    # compute rdf\n",
    "    g11[] = rdf.InterRDF(sel1, sel1).run()\n",
    "    r2, g2 = rdf.InterRDF(sel2, sel2).run()\n",
    "    r12, g12 = rdf.InterRDF(sel1, sel2).run()\n",
    "    # plot\n",
    "    plt.plot(r1, g1, label=\"T1\")\n",
    "    plt.plot(r2, g2, label=\"T2\")\n",
    "    plt.plot(r12, g12, label=\"T12\")\n",
    "    plt.legend()\n",
    "    plt.show()\n",
    "\n"
   ]
  },
  {
   "cell_type": "code",
   "execution_count": 46,
   "metadata": {},
   "outputs": [
    {
     "name": "stderr",
     "output_type": "stream",
     "text": [
      "c:\\ProgramData\\Miniconda3\\lib\\site-packages\\MDAnalysis\\analysis\\rdf.py:417: DeprecationWarning: The `bins` attribute was deprecated in MDAnalysis 2.0.0 and will be removed in MDAnalysis 3.0.0. Please use `results.bins` instead\n",
      "  warnings.warn(wmsg, DeprecationWarning)\n",
      "c:\\ProgramData\\Miniconda3\\lib\\site-packages\\MDAnalysis\\analysis\\rdf.py:425: DeprecationWarning: The `rdf` attribute was deprecated in MDAnalysis 2.0.0 and will be removed in MDAnalysis 3.0.0. Please use `results.rdf` instead\n",
      "  warnings.warn(wmsg, DeprecationWarning)\n"
     ]
    },
    {
     "data": {
      "text/plain": [
       "[<matplotlib.lines.Line2D at 0x16ca5202828>]"
      ]
     },
     "execution_count": 46,
     "metadata": {},
     "output_type": "execute_result"
    },
    {
     "data": {
      "image/png": "[encoded data removed]",
      "text/plain": [
       "<Figure size 640x480 with 1 Axes>"
      ]
     },
     "metadata": {},
     "output_type": "display_data"
    }
   ],
   "source": [
    "# plot g_11(r) for all temperatures\n",
    "plt.plot(g_11_T1p5.bins, g_11_T1p5.rdf, label=\"T=1.5\")"
   ]
  },
  {
   "cell_type": "code",
   "execution_count": 50,
   "metadata": {},
   "outputs": [
    {
     "ename": "TypeError",
     "evalue": "cannot unpack non-iterable InterRDF object",
     "output_type": "error",
     "traceback": [
      "\u001b[1;31m---------------------------------------------------------------------------\u001b[0m",
      "\u001b[1;31mTypeError\u001b[0m                                 Traceback (most recent call last)",
      "\u001b[1;32m~\\AppData\\Local\\Temp\\ipykernel_33804\\3462051170.py\u001b[0m in \u001b[0;36m<module>\u001b[1;34m\u001b[0m\n\u001b[1;32m----> 1\u001b[1;33m \u001b[0mr1\u001b[0m\u001b[1;33m,\u001b[0m \u001b[0mg1\u001b[0m \u001b[1;33m=\u001b[0m \u001b[0mrdf\u001b[0m\u001b[1;33m.\u001b[0m\u001b[0mInterRDF\u001b[0m\u001b[1;33m(\u001b[0m\u001b[0msel1\u001b[0m\u001b[1;33m,\u001b[0m \u001b[0msel1\u001b[0m\u001b[1;33m)\u001b[0m\u001b[1;33m\u001b[0m\u001b[1;33m\u001b[0m\u001b[0m\n\u001b[0m\u001b[0;32m      2\u001b[0m \u001b[1;31m# run\u001b[0m\u001b[1;33m\u001b[0m\u001b[1;33m\u001b[0m\u001b[1;33m\u001b[0m\u001b[0m\n\u001b[0;32m      3\u001b[0m \u001b[0mr1\u001b[0m\u001b[1;33m,\u001b[0m\u001b[0mg1\u001b[0m\u001b[1;33m.\u001b[0m\u001b[0mrun\u001b[0m\u001b[1;33m(\u001b[0m\u001b[1;33m)\u001b[0m\u001b[1;33m\u001b[0m\u001b[1;33m\u001b[0m\u001b[0m\n",
      "\u001b[1;31mTypeError\u001b[0m: cannot unpack non-iterable InterRDF object"
     ]
    }
   ],
   "source": [
    "r1, g1 = rdf.InterRDF(sel1, sel1)\n"
   ]
  },
  {
   "cell_type": "code",
   "execution_count": null,
   "metadata": {},
   "outputs": [],
   "source": []
  }
 ],
 "metadata": {
  "kernelspec": {
   "display_name": "Python 3.7.1 ('base')",
   "language": "python",
   "name": "python3"
  },
  "language_info": {
   "codemirror_mode": {
    "name": "ipython",
    "version": 3
   },
   "file_extension": ".py",
   "mimetype": "text/x-python",
   "name": "python",
   "nbconvert_exporter": "python",
   "pygments_lexer": "ipython3",
   "version": "3.7.1"
  },
  "orig_nbformat": 4,
  "vscode": {
   "interpreter": {
    "hash": "19d1d53a962d236aa061289c2ac16dc8e6d9648c89fe79f459ae9a3493bc67b4"
   }
  }
 },
 "nbformat": 4,
 "nbformat_minor": 2
}
