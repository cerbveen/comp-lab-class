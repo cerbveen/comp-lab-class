{
 "cells": [
  {
   "cell_type": "code",
   "execution_count": 2,
   "metadata": {},
   "outputs": [],
   "source": [
    "# this notebook is for Week2-Assignment-5)\n",
    "# author: Rui Zeng, N15471955, rz2522@nyu.edu\n",
    "# import libraries\n",
    "# mdtrajectories\n",
    "import mdtraj as md\n",
    "# numpy\n",
    "import numpy as np"
   ]
  },
  {
   "cell_type": "code",
   "execution_count": 3,
   "metadata": {},
   "outputs": [
    {
     "name": "stdout",
     "output_type": "stream",
     "text": [
      "Number of frames:  1\n"
     ]
    }
   ],
   "source": [
    "# load pdb file\n",
    "import os\n",
    "# change directory to the data folder\n",
    "os.chdir('..\\Data')\n",
    "# load pdb file ('1UBQ_processed.pdb')\n",
    "pdb = md.load_pdb('1UBQ_processed.pdb')\n",
    "# print number of frames\n",
    "print('Number of frames: ', pdb.n_frames)"
   ]
  },
  {
   "cell_type": "code",
   "execution_count": 131,
   "metadata": {},
   "outputs": [
    {
     "name": "stdout",
     "output_type": "stream",
     "text": [
      "Total number of hydrogen bonds:  57\n"
     ]
    }
   ],
   "source": [
    "# hydrogen bonds\n",
    "hbonds = md.baker_hubbard(pdb, periodic=False)\n",
    "# print total number of hydrogen bonds\n",
    "print('Total number of hydrogen bonds: ', len(hbonds))"
   ]
  },
  {
   "cell_type": "code",
   "execution_count": 143,
   "metadata": {},
   "outputs": [
    {
     "name": "stdout",
     "output_type": "stream",
     "text": [
      "Secondary structure:  [['C' 'E' 'E' 'E' 'E' 'E' 'E' 'C' 'C' 'C' 'C' 'E' 'E' 'E' 'E' 'E' 'C' 'C'\n",
      "  'C' 'C' 'C' 'E' 'H' 'H' 'H' 'H' 'H' 'H' 'H' 'H' 'H' 'H' 'H' 'H' 'C' 'C'\n",
      "  'C' 'H' 'H' 'H' 'E' 'E' 'E' 'E' 'E' 'C' 'C' 'E' 'E' 'C' 'C' 'C' 'C' 'C'\n",
      "  'E' 'C' 'H' 'H' 'H' 'C' 'C' 'C' 'C' 'C' 'C' 'E' 'E' 'E' 'E' 'E' 'E' 'C'\n",
      "  'C' 'C' 'C' 'C' 'NA' 'NA' 'NA' 'NA' 'NA' 'NA' 'NA' 'NA' 'NA' 'NA' 'NA'\n",
      "  'NA' 'NA' 'NA' 'NA' 'NA' 'NA' 'NA' 'NA' 'NA' 'NA' 'NA' 'NA' 'NA' 'NA'\n",
      "  'NA' 'NA' 'NA' 'NA' 'NA' 'NA' 'NA' 'NA' 'NA' 'NA' 'NA' 'NA' 'NA' 'NA'\n",
      "  'NA' 'NA' 'NA' 'NA' 'NA' 'NA' 'NA' 'NA' 'NA' 'NA' 'NA' 'NA' 'NA' 'NA'\n",
      "  'NA' 'NA' 'NA' 'NA' 'NA']]\n",
      "Number of helical amino acids:  18\n",
      "Number of amino acids in strands:  26\n",
      "Number of amino acids in coils:  32\n",
      "Number of amino acids:  76\n",
      "Number of other molecules:  58\n",
      "Number of residues including other molecules:  134\n"
     ]
    }
   ],
   "source": [
    "# comput secondary structure\n",
    "ss = md.compute_dssp(pdb, simplified=True)\n",
    "# print secondary structure\n",
    "print('Secondary structure: ', ss)\n",
    "# print number of helical amino acids\n",
    "print('Number of helical amino acids: ', np.count_nonzero(ss == 'H'))\n",
    "# print number of amino acids in strands\n",
    "print('Number of amino acids in strands: ', np.count_nonzero(ss == 'E'))\n",
    "# print number of amino acids in coils\n",
    "print('Number of amino acids in coils: ', np.count_nonzero(ss == 'C'))\n",
    "# print number of amino acids\n",
    "print('Number of amino acids: ', np.count_nonzero(ss)-np.count_nonzero(ss == 'NA'))\n",
    "# print number of other molecules\n",
    "print('Number of other molecules: ', np.count_nonzero(ss == 'NA'))\n",
    "# print number of residues including other molecules\n",
    "print('Number of residues including other molecules: ', np.size(ss))\n"
   ]
  },
  {
   "cell_type": "markdown",
   "metadata": {},
   "source": [
    "# next cells are not for assignment\n",
    "# next cells are not for assignment\n",
    "# next cells are not for assignment"
   ]
  },
  {
   "cell_type": "code",
   "execution_count": 146,
   "metadata": {},
   "outputs": [
    {
     "name": "stdout",
     "output_type": "stream",
     "text": [
      "[['C' 'E' 'E' 'E' 'E' 'E' 'E' 'C' 'C' 'C' 'C' 'E' 'E' 'E' 'E' 'E' 'C' 'C'\n",
      "  'C' 'C' 'C' 'E' 'H' 'H' 'H' 'H' 'H' 'H' 'H' 'H' 'H' 'H' 'H' 'H' 'C' 'C'\n",
      "  'C' 'H' 'H' 'H' 'E' 'E' 'E' 'E' 'E' 'C' 'C' 'E' 'E' 'C' 'C' 'C' 'C' 'C'\n",
      "  'E' 'C' 'H' 'H' 'H' 'C' 'C' 'C' 'C' 'C' 'C' 'E' 'E' 'E' 'E' 'E' 'E' 'C'\n",
      "  'C' 'C' 'C' 'C' 'NA' 'NA' 'NA' 'NA' 'NA' 'NA' 'NA' 'NA' 'NA' 'NA' 'NA'\n",
      "  'NA' 'NA' 'NA' 'NA' 'NA' 'NA' 'NA' 'NA' 'NA' 'NA' 'NA' 'NA' 'NA' 'NA'\n",
      "  'NA' 'NA' 'NA' 'NA' 'NA' 'NA' 'NA' 'NA' 'NA' 'NA' 'NA' 'NA' 'NA' 'NA'\n",
      "  'NA' 'NA' 'NA' 'NA' 'NA' 'NA' 'NA' 'NA' 'NA' 'NA' 'NA' 'NA' 'NA' 'NA'\n",
      "  'NA' 'NA' 'NA' 'NA' 'NA']]\n",
      "Number of helical amino acids:  18\n",
      "Number of amino acids in strands:  26\n",
      "Number of amino acids in coils:  32\n",
      "Number of amino acids:  76\n",
      "Number of other molecules:  58\n",
      "Number of residues including other molecules:  134\n",
      "Total number of hydrogen bonds:  0\n"
     ]
    }
   ],
   "source": [
    "# check secondary structure in 1UBQ.pdb\n",
    "ss2=md.compute_dssp(pdb2)\n",
    "print (ss2)\n",
    "print ('Number of helical amino acids: ', np.count_nonzero(ss2 == 'H'))\n",
    "print ('Number of amino acids in strands: ', np.count_nonzero(ss2 == 'E'))\n",
    "print ('Number of amino acids in coils: ', np.count_nonzero(ss2 == 'C'))\n",
    "print ('Number of amino acids: ', np.count_nonzero(ss2)-np.count_nonzero(ss2 == 'NA'))\n",
    "print ('Number of other molecules: ', np.count_nonzero(ss2 == 'NA'))\n",
    "print ('Number of residues including other molecules: ', np.size(ss2))\n",
    "hbonds2 = md.baker_hubbard(pdb2, periodic=False)\n",
    "print ('Total number of hydrogen bonds: ', len(hbonds2))\n"
   ]
  },
  {
   "cell_type": "code",
   "execution_count": 119,
   "metadata": {},
   "outputs": [
    {
     "name": "stdout",
     "output_type": "stream",
     "text": [
      "MET1-N -- VAL17-O\n",
      "ILE3-N -- LEU15-O\n",
      "PHE4-N -- SER65-O\n",
      "VAL5-N -- ILE13-O\n",
      "LYS6-N -- LEU67-O\n",
      "THR7-N -- LYS11-O\n",
      "THR9-N -- THR7-OG1\n",
      "GLY10-N -- THR7-O\n",
      "ILE13-N -- VAL5-O\n",
      "LEU15-N -- ILE3-O\n",
      "VAL17-N -- MET1-O\n",
      "GLU18-N -- ASP21-OD2\n",
      "ASP21-N -- GLU18-O\n",
      "ILE23-N -- ARG54-O\n",
      "GLU24-N -- ASP52-O\n",
      "ASN25-N -- THR22-OG1\n",
      "ASN25-N -- THR22-O\n",
      "VAL26-N -- THR22-O\n",
      "LYS27-N -- ILE23-O\n",
      "LYS27-NZ -- ASP52-OD2\n",
      "ALA28-N -- GLU24-O\n",
      "LYS29-N -- ASN25-O\n",
      "LYS29-NZ -- GLU16-O\n",
      "ILE30-N -- VAL26-O\n",
      "GLN31-N -- LYS27-O\n",
      "ASP32-N -- ALA28-O\n",
      "LYS33-N -- LYS29-O\n",
      "GLU34-N -- ILE30-O\n",
      "GLY35-N -- GLN31-O\n",
      "GLN40-N -- PRO37-O\n",
      "GLN41-N -- PRO38-O\n",
      "GLN41-NE2 -- ILE36-O\n",
      "GLN41-NE2 -- LYS27-O\n",
      "ARG42-N -- VAL70-O\n",
      "ARG42-NE -- GLN49-NE2\n",
      "ILE44-N -- HIS68-O\n",
      "PHE45-N -- LYS48-O\n",
      "LYS48-N -- PHE45-O\n",
      "LEU50-N -- LEU43-O\n",
      "GLU51-N -- TYR59-OH\n",
      "ARG54-N -- GLU51-O\n",
      "THR55-N -- ASP58-OD1\n",
      "LEU56-N -- ASP21-O\n",
      "SER57-N -- PRO19-O\n",
      "ASP58-N -- THR55-OG1\n",
      "ASP58-N -- THR55-O\n",
      "TYR59-N -- LEU56-O\n",
      "ASN60-N -- SER57-O\n",
      "ILE61-N -- LEU56-O\n",
      "GLU64-N -- GLN2-O\n",
      "SER65-N -- GLN62-O\n",
      "LEU67-N -- PHE4-O\n",
      "HIS68-N -- ILE44-O\n",
      "LEU69-N -- LYS6-O\n",
      "VAL70-N -- ARG42-O\n",
      "ARG72-N -- GLN40-O\n",
      "ARG72-NH2 -- GLN41-O\n"
     ]
    }
   ],
   "source": [
    "# print hydrogen bonds\n",
    "label = lambda hbond : '%s -- %s' % (pdb.topology.atom(hbond[0]), pdb.topology.atom(hbond[2]))\n",
    "for hbond in hbonds:\n",
    "        print(label(hbond))"
   ]
  },
  {
   "cell_type": "code",
   "execution_count": 151,
   "metadata": {},
   "outputs": [
    {
     "name": "stdout",
     "output_type": "stream",
     "text": [
      "Number of atoms in the protein:  1231\n",
      "Number of atoms in the protein backbone:  304\n",
      "Number of atoms in the protein side chain:  784\n",
      "Number of atoms in the protein backbone and side chain:  1088\n",
      "Number of hydrogen atoms:  745\n"
     ]
    }
   ],
   "source": [
    "# atom selection\n",
    "# select all atoms in the protein\n",
    "protein = pdb.topology.select('protein')\n",
    "# select all atoms in the protein backbone\n",
    "backbone = pdb.topology.select('backbone')\n",
    "# select all atoms in the protein side chain\n",
    "sidechain = pdb.topology.select('sidechain')\n",
    "# select all atoms in the protein backbone and side chain\n",
    "backbone_sidechain = pdb.topology.select('backbone or sidechain')\n",
    "# print number of atoms in the protein\n",
    "print('Number of atoms in the protein: ', len(protein))\n",
    "# print number of atoms in the protein backbone\n",
    "print('Number of atoms in the protein backbone: ', len(backbone))\n",
    "# print number of atoms in the protein side chain\n",
    "print('Number of atoms in the protein side chain: ', len(sidechain))\n",
    "# print number of atoms in the protein backbone and side chain\n",
    "print('Number of atoms in the protein backbone and side chain: ', len(backbone_sidechain))\n",
    "#number of hydrogen atoms\n",
    "hydrogen = pdb.topology.select('element H')\n",
    "print('Number of hydrogen atoms: ', len(hydrogen))"
   ]
  },
  {
   "cell_type": "code",
   "execution_count": 152,
   "metadata": {},
   "outputs": [
    {
     "name": "stdout",
     "output_type": "stream",
     "text": [
      "Number of atoms in the protein:  602\n",
      "Number of atoms in the protein backbone:  304\n",
      "Number of atoms in the protein side chain:  298\n",
      "Number of atoms in the protein backbone and side chain:  602\n",
      "Number of hydrogen atoms:  0\n"
     ]
    }
   ],
   "source": [
    "# check atoms in 1UBQ.pdb\n",
    "protein2 = pdb2.topology.select('protein')\n",
    "backbone2 = pdb2.topology.select('backbone')\n",
    "sidechain2 = pdb2.topology.select('sidechain')\n",
    "backbone_sidechain2 = pdb2.topology.select('backbone or sidechain')\n",
    "print('Number of atoms in the protein: ', len(protein2))\n",
    "print('Number of atoms in the protein backbone: ', len(backbone2))\n",
    "print('Number of atoms in the protein side chain: ', len(sidechain2))\n",
    "print('Number of atoms in the protein backbone and side chain: ', len(backbone_sidechain2))\n",
    "hydrogen2 = pdb2.topology.select('element H')\n",
    "print('Number of hydrogen atoms: ', len(hydrogen2))\n",
    "\n"
   ]
  }
 ],
 "metadata": {
  "kernelspec": {
   "display_name": "Python 3.7.1 ('base')",
   "language": "python",
   "name": "python3"
  },
  "language_info": {
   "codemirror_mode": {
    "name": "ipython",
    "version": 3
   },
   "file_extension": ".py",
   "mimetype": "text/x-python",
   "name": "python",
   "nbconvert_exporter": "python",
   "pygments_lexer": "ipython3",
   "version": "3.7.1"
  },
  "orig_nbformat": 4,
  "vscode": {
   "interpreter": {
    "hash": "19d1d53a962d236aa061289c2ac16dc8e6d9648c89fe79f459ae9a3493bc67b4"
   }
  }
 },
 "nbformat": 4,
 "nbformat_minor": 2
}
