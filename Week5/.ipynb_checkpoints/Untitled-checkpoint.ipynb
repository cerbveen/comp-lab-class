{
 "cells": [
  {
   "cell_type": "code",
   "execution_count": 14,
   "metadata": {},
   "outputs": [],
   "source": [
    "# this notebook is for Week3-Assignment-remove water from trajectory file\n",
    "# author: Rui Zeng, N15471955, rz2522@nyu.edu\n",
    "# import libraries\n",
    "import mdtraj as md"
   ]
  },
  {
   "cell_type": "code",
   "execution_count": 22,
   "metadata": {},
   "outputs": [],
   "source": [
    "trr_file = './Inputs/adp.trr'\n",
    "gro_file = './Inputs/adp.gro'\n",
    "# load the trajectory\n",
    "traj = md.load(trr_file, top=gro_file)\n",
    "#traj = md.load('\\Inputs\\adp.trr', top='\\Inputs\\adp.gro')\n",
    "# compute phi and psi angles\n",
    "phi_psi = md.compute_phi(traj)"
   ]
  },
  {
   "cell_type": "code",
   "execution_count": 25,
   "metadata": {},
   "outputs": [
    {
     "name": "stdout",
     "output_type": "stream",
     "text": [
      "(array([[ 4,  6,  8, 14]]), array([[-2.8562374],\n",
      "       [-2.8581412],\n",
      "       [-2.3706222],\n",
      "       ...,\n",
      "       [-2.8345683],\n",
      "       [-1.5780281],\n",
      "       [-1.2867091]], dtype=float32))\n"
     ]
    }
   ],
   "source": [
    "print (phi_psi)"
   ]
  },
  {
   "cell_type": "code",
   "execution_count": 32,
   "metadata": {},
   "outputs": [
    {
     "data": {
      "image/png": "[encoded data removed]",
      "text/plain": [
       "<Figure size 640x480 with 1 Axes>"
      ]
     },
     "metadata": {},
     "output_type": "display_data"
    },
    {
     "ename": "AttributeError",
     "evalue": "'Trajectory' object has no attribute 'energy'",
     "output_type": "error",
     "traceback": [
      "\u001b[0;31m---------------------------------------------------------------------------\u001b[0m",
      "\u001b[0;31mAttributeError\u001b[0m                            Traceback (most recent call last)",
      "Input \u001b[0;32mIn [32]\u001b[0m, in \u001b[0;36m<cell line: 7>\u001b[0;34m()\u001b[0m\n\u001b[1;32m      5\u001b[0m plt\u001b[38;5;241m.\u001b[39mylabel(\u001b[38;5;124m'\u001b[39m\u001b[38;5;124mpsi\u001b[39m\u001b[38;5;124m'\u001b[39m)\n\u001b[1;32m      6\u001b[0m plt\u001b[38;5;241m.\u001b[39mshow()\n\u001b[0;32m----> 7\u001b[0m \u001b[38;5;28mprint\u001b[39m(\u001b[43mtraj\u001b[49m\u001b[38;5;241;43m.\u001b[39;49m\u001b[43menergy\u001b[49m)\n",
      "\u001b[0;31mAttributeError\u001b[0m: 'Trajectory' object has no attribute 'energy'"
     ]
    }
   ],
   "source": [
    "import matplotlib.pyplot as plt\n",
    "# Make a ramachandran plot\n",
    "plt.plot(phi_psi[0][:,0], phi_psi[0][:,1], 'o')\n",
    "plt.xlabel('phi')\n",
    "plt.ylabel('psi')\n",
    "plt.show()"
   ]
  },
  {
   "cell_type": "code",
   "execution_count": null,
   "metadata": {},
   "outputs": [],
   "source": []
  }
 ],
 "metadata": {
  "kernelspec": {
   "display_name": "lab_env",
   "language": "python",
   "name": "lab_env"
  },
  "language_info": {
   "codemirror_mode": {
    "name": "ipython",
    "version": 3
   },
   "file_extension": ".py",
   "mimetype": "text/x-python",
   "name": "python",
   "nbconvert_exporter": "python",
   "pygments_lexer": "ipython3",
   "version": "3.9.12"
  }
 },
 "nbformat": 4,
 "nbformat_minor": 4
}
